{
 "cells": [
  {
   "cell_type": "code",
   "execution_count": 2,
   "id": "4828cc2b",
   "metadata": {},
   "outputs": [],
   "source": [
    "import pandas as pd;\n",
    "import numpy as np;\n",
    "import openpyxl;"
   ]
  },
  {
   "cell_type": "code",
   "execution_count": 3,
   "id": "d607d858",
   "metadata": {},
   "outputs": [
    {
     "name": "stdout",
     "output_type": "stream",
     "text": [
      "Index(['Date', 'Time', 'Booking_ID', 'Booking_Status', 'Customer_ID',\n",
      "       'Vehicle_Type', 'Pickup_Location', 'Drop_Location', 'V_TAT', 'C_TAT',\n",
      "       'Canceled_Rides_by_Customer', 'Canceled_Rides_by_Driver',\n",
      "       'Incomplete_Rides', 'Incomplete_Rides_Reason', 'Booking_Value',\n",
      "       'Payment_Method', 'Ride_Distance', 'Driver_Ratings', 'Customer_Rating',\n",
      "       'Vehicle Images'],\n",
      "      dtype='object')\n",
      "<class 'pandas.core.frame.DataFrame'>\n",
      "RangeIndex: 20407 entries, 0 to 20406\n",
      "Data columns (total 20 columns):\n",
      " #   Column                      Non-Null Count  Dtype  \n",
      "---  ------                      --------------  -----  \n",
      " 0   Date                        20407 non-null  object \n",
      " 1   Time                        20407 non-null  object \n",
      " 2   Booking_ID                  20407 non-null  object \n",
      " 3   Booking_Status              20407 non-null  object \n",
      " 4   Customer_ID                 20407 non-null  object \n",
      " 5   Vehicle_Type                20407 non-null  object \n",
      " 6   Pickup_Location             20407 non-null  object \n",
      " 7   Drop_Location               20407 non-null  object \n",
      " 8   V_TAT                       12652 non-null  float64\n",
      " 9   C_TAT                       12652 non-null  float64\n",
      " 10  Canceled_Rides_by_Customer  2081 non-null   object \n",
      " 11  Canceled_Rides_by_Driver    3654 non-null   object \n",
      " 12  Incomplete_Rides            12652 non-null  object \n",
      " 13  Incomplete_Rides_Reason     795 non-null    object \n",
      " 14  Booking_Value               20407 non-null  int64  \n",
      " 15  Payment_Method              12652 non-null  object \n",
      " 16  Ride_Distance               20407 non-null  int64  \n",
      " 17  Driver_Ratings              12652 non-null  float64\n",
      " 18  Customer_Rating             12652 non-null  float64\n",
      " 19  Vehicle Images              0 non-null      float64\n",
      "dtypes: float64(5), int64(2), object(13)\n",
      "memory usage: 3.1+ MB\n",
      "None\n",
      "              V_TAT         C_TAT  Booking_Value  Ride_Distance  \\\n",
      "count  12652.000000  12652.000000   20407.000000   20407.000000   \n",
      "mean     170.640768     85.183765     546.316019      14.160386   \n",
      "std       80.657316     35.993634     533.593923      15.827246   \n",
      "min       35.000000     25.000000     100.000000       0.000000   \n",
      "25%       98.000000     55.000000     240.000000       0.000000   \n",
      "50%      168.000000     85.000000     384.000000       8.000000   \n",
      "75%      238.000000    115.000000     623.000000      27.000000   \n",
      "max      308.000000    145.000000    2999.000000      49.000000   \n",
      "\n",
      "       Driver_Ratings  Customer_Rating  Vehicle Images  \n",
      "count    12652.000000     12652.000000             0.0  \n",
      "mean         3.997479         3.993772             NaN  \n",
      "std          0.576357         0.581111             NaN  \n",
      "min          3.000000         3.000000             NaN  \n",
      "25%          3.500000         3.500000             NaN  \n",
      "50%          4.000000         4.000000             NaN  \n",
      "75%          4.500000         4.500000             NaN  \n",
      "max          5.000000         5.000000             NaN  \n"
     ]
    }
   ],
   "source": [
    "# Loading the data set and inspection of dataset\n",
    "df=pd.read_csv('OlaData.csv')\n",
    "print(df.columns)\n",
    "print(df.info())\n",
    "print(df.describe())"
   ]
  },
  {
   "cell_type": "code",
   "execution_count": 4,
   "id": "9b9f315a",
   "metadata": {},
   "outputs": [
    {
     "data": {
      "text/plain": [
       "Date                              0\n",
       "Time                              0\n",
       "Booking_ID                        0\n",
       "Booking_Status                    0\n",
       "Customer_ID                       0\n",
       "Vehicle_Type                      0\n",
       "Pickup_Location                   0\n",
       "Drop_Location                     0\n",
       "V_TAT                          7755\n",
       "C_TAT                          7755\n",
       "Canceled_Rides_by_Customer    18326\n",
       "Canceled_Rides_by_Driver      16753\n",
       "Incomplete_Rides               7755\n",
       "Incomplete_Rides_Reason       19612\n",
       "Booking_Value                     0\n",
       "Payment_Method                 7755\n",
       "Ride_Distance                     0\n",
       "Driver_Ratings                 7755\n",
       "Customer_Rating                7755\n",
       "Vehicle Images                20407\n",
       "dtype: int64"
      ]
     },
     "execution_count": 4,
     "metadata": {},
     "output_type": "execute_result"
    }
   ],
   "source": [
    "df.isnull().sum()"
   ]
  },
  {
   "cell_type": "code",
   "execution_count": 5,
   "id": "7e44cb79",
   "metadata": {},
   "outputs": [
    {
     "name": "stdout",
     "output_type": "stream",
     "text": [
      "Index(['date', 'time', 'booking_id', 'booking_status', 'customer_id',\n",
      "       'vehicle_type', 'pickup_location', 'drop_location', 'v_tat', 'c_tat',\n",
      "       'canceled_rides_by_customer', 'canceled_rides_by_driver',\n",
      "       'incomplete_rides', 'incomplete_rides_reason', 'booking_value',\n",
      "       'payment_method', 'ride_distance', 'driver_ratings', 'customer_rating',\n",
      "       'vehicle_images'],\n",
      "      dtype='object')\n"
     ]
    }
   ],
   "source": [
    "# Cleaning the names of columns and making them in snakecase and removing all whitespaces\n",
    "\n",
    "df.columns=df.columns.str.lower()\n",
    "df.columns=df.columns.str.replace(' ','_')\n",
    "df.columns=df.columns.str.strip()\n",
    "\n",
    "#checking\n",
    "\n",
    "print(df.columns)"
   ]
  },
  {
   "cell_type": "code",
   "execution_count": 6,
   "id": "8728486f",
   "metadata": {},
   "outputs": [
    {
     "name": "stdout",
     "output_type": "stream",
     "text": [
      "0        Prime Sedan\n",
      "1               Bike\n",
      "2          Prime SUV\n",
      "3              eBike\n",
      "4               Mini\n",
      "            ...     \n",
      "20402      Prime SUV\n",
      "20403           Mini\n",
      "20404          eBike\n",
      "20405      Prime SUV\n",
      "20406    Prime Sedan\n",
      "Name: vehicle_type, Length: 20407, dtype: object\n",
      "0        prime_sedan\n",
      "1               bike\n",
      "2          prime_suv\n",
      "3              ebike\n",
      "4               mini\n",
      "            ...     \n",
      "20402      prime_suv\n",
      "20403           mini\n",
      "20404          ebike\n",
      "20405      prime_suv\n",
      "20406    prime_sedan\n",
      "Name: vehicle_type, Length: 20407, dtype: object\n"
     ]
    }
   ],
   "source": [
    "## Doing the EDA and finding some insights \n",
    "print(df['vehicle_type'])\n",
    "# Cleaning the text of vehicle type column to snakecase and removing all whitespaces if any present\n",
    "df['vehicle_type']=df['vehicle_type'].str.lower()\n",
    "df['vehicle_type']=df['vehicle_type'].str.replace(' ','_')\n",
    "df['vehicle_type']=df['vehicle_type'].str.strip()\n",
    "#checking\n",
    "print(df['vehicle_type'])"
   ]
  },
  {
   "cell_type": "code",
   "execution_count": 7,
   "id": "c1dc9c23",
   "metadata": {},
   "outputs": [],
   "source": [
    "###   OVERALL ANALYSIS"
   ]
  },
  {
   "cell_type": "code",
   "execution_count": 8,
   "id": "92707e93",
   "metadata": {},
   "outputs": [
    {
     "name": "stdout",
     "output_type": "stream",
     "text": [
      "12652\n"
     ]
    }
   ],
   "source": [
    "## TOTAL SUCCESSFUL or UNSUCCessful BOOKINGS\n",
    "var=df[df['booking_status']==\"Success\"]\n",
    "print(len(var))"
   ]
  },
  {
   "cell_type": "code",
   "execution_count": 9,
   "id": "e86ae284",
   "metadata": {},
   "outputs": [
    {
     "name": "stdout",
     "output_type": "stream",
     "text": [
      "15.187096774193549\n"
     ]
    }
   ],
   "source": [
    "## FINDING AVERAGE DISTANCE RIDE FOR EACH VEHICLE ( let's do it for prime_suv)\n",
    "var1=df[df['vehicle_type']==\"prime_suv\"]\n",
    "var2=var1['ride_distance'].mean()\n",
    "print(var2)"
   ]
  },
  {
   "cell_type": "code",
   "execution_count": 10,
   "id": "645f2702",
   "metadata": {},
   "outputs": [
    {
     "name": "stdout",
     "output_type": "stream",
     "text": [
      "2081\n"
     ]
    }
   ],
   "source": [
    "## CANCELLED RIDES BY THE CUSTOMERS or drivers\n",
    "var3=df[df['canceled_rides_by_customer'].notna()]\n",
    "print(len(var3))"
   ]
  },
  {
   "cell_type": "code",
   "execution_count": 11,
   "id": "3e2736de",
   "metadata": {},
   "outputs": [
    {
     "name": "stdout",
     "output_type": "stream",
     "text": [
      "             number_of_bookings\n",
      "customer_id                    \n",
      "CID940408                     3\n",
      "CID393964                     2\n",
      "CID143850                     2\n",
      "CID190536                     2\n",
      "CID126952                     2\n"
     ]
    }
   ],
   "source": [
    "## TOP 5 CUSTOMERS WHO BOOKED HIGHEST NUMBER OF RIDES or rating wise or booking value wise ( just adjust the filter condition & see the results accordingly)\n",
    "var4 =df.groupby('customer_id').agg(number_of_bookings=('booking_id','count')).sort_values('number_of_bookings',ascending=False).head(5)\n",
    "print(var4)"
   ]
  },
  {
   "cell_type": "code",
   "execution_count": 12,
   "id": "5ffc4f79",
   "metadata": {},
   "outputs": [
    {
     "name": "stdout",
     "output_type": "stream",
     "text": [
      "1263\n"
     ]
    }
   ],
   "source": [
    "## Number of rides cancelled by drivers due to personal and car-related issues or any other reasons as well or by customer\n",
    "var5 =df[df['canceled_rides_by_driver']==\"Personal & Car related issue\"]\n",
    "print(len(var5))"
   ]
  },
  {
   "cell_type": "code",
   "execution_count": 13,
   "id": "473dbd1f",
   "metadata": {},
   "outputs": [
    {
     "name": "stdout",
     "output_type": "stream",
     "text": [
      "3.0\n",
      "5.0\n"
     ]
    }
   ],
   "source": [
    "## MAX & MIN DRIVER RATING ON PRIME SUV or in any vehicle\n",
    "#print(df['driver_ratings'].dtype) # firstly checking the datatype of this column so that numerical operations can be performed correctly\n",
    "var6= df[df['vehicle_type']==\"prime_suv\"]\n",
    "#print(var6[['vehicle_type','driver_ratings']])\n",
    "print(var6['driver_ratings'].min())\n",
    "print(var6['driver_ratings'].max())"
   ]
  },
  {
   "cell_type": "code",
   "execution_count": 14,
   "id": "9c52aa1f",
   "metadata": {},
   "outputs": [
    {
     "name": "stdout",
     "output_type": "stream",
     "text": [
      "0                NaN\n",
      "1               cash\n",
      "2                upi\n",
      "3                NaN\n",
      "4        credit_card\n",
      "            ...     \n",
      "20402            NaN\n",
      "20403           cash\n",
      "20404           cash\n",
      "20405            upi\n",
      "20406            NaN\n",
      "Name: payment_method, Length: 20407, dtype: object\n",
      "5113\n"
     ]
    }
   ],
   "source": [
    "## RIDES WHERE PAYMENT METHOD IS UPI or any other \n",
    "#First cleaing the strings of payment methoid column\n",
    "df['payment_method']=df['payment_method'].str.lower()\n",
    "df['payment_method']=df['payment_method'].str.replace(' ','_')\n",
    "df['payment_method']=df['payment_method'].str.strip()\n",
    "print(df['payment_method'])\n",
    "var7= df[df['payment_method']==\"upi\"]\n",
    "print(len(var7))"
   ]
  },
  {
   "cell_type": "code",
   "execution_count": 15,
   "id": "e1f88525",
   "metadata": {},
   "outputs": [
    {
     "name": "stdout",
     "output_type": "stream",
     "text": [
      "4.019822320932816\n"
     ]
    }
   ],
   "source": [
    "## Average customer rating or driver ratings per vehicle type ( let's take mini vehicle here)\n",
    "#print(df['customer_rating'].dtype) # Checking the Data type of cyustomer RATING COLUMN\n",
    "var8= df[df['vehicle_type']==\"mini\"]\n",
    "var9=var8['customer_rating'].mean()\n",
    "print(var9)"
   ]
  },
  {
   "cell_type": "code",
   "execution_count": 41,
   "id": "29adac10",
   "metadata": {},
   "outputs": [
    {
     "name": "stdout",
     "output_type": "stream",
     "text": [
      "[nan 'No' 'Yes']\n",
      "6429897\n"
     ]
    }
   ],
   "source": [
    "## TOTAL value OF rides COMPLETED successfully or unsuccessfully \n",
    "print(df['incomplete_rides'].unique()) # checking the different values inside the incomplete_rides column\n",
    "var10= df[df['incomplete_rides']==\"No\"]\n",
    "var11= var10['booking_value'].sum()\n",
    "print(var11)"
   ]
  },
  {
   "cell_type": "code",
   "execution_count": 42,
   "id": "e3465cce",
   "metadata": {},
   "outputs": [
    {
     "name": "stdout",
     "output_type": "stream",
     "text": [
      "          booking_id customer_id incomplete_rides incomplete_rides_reason\n",
      "38     CNR5176704322   CID296026              Yes         Customer Demand\n",
      "49     CNR9312632867   CID649563              Yes       Vehicle Breakdown\n",
      "70     CNR7924302885   CID517661              Yes         Customer Demand\n",
      "93     CNR1640228587   CID190281              Yes             Other Issue\n",
      "101    CNR7623690602   CID526261              Yes             Other Issue\n",
      "...              ...         ...              ...                     ...\n",
      "20197  CNR3500429121   CID108258              Yes             Other Issue\n",
      "20275  CNR9654855291   CID923733              Yes             Other Issue\n",
      "20289  CNR6348178557   CID948352              Yes       Vehicle Breakdown\n",
      "20378  CNR7902243107   CID514958              Yes         Customer Demand\n",
      "20390  CNR7459607546   CID845808              Yes         Customer Demand\n",
      "\n",
      "[795 rows x 4 columns]\n"
     ]
    }
   ],
   "source": [
    "## ALL incomplete rides along with reason :\n",
    "#print(df[['incomplete_rides_reason','incomplete_rides']].tail(30)) # just doing basic inspection \n",
    "var12=df[df['incomplete_rides']==\"Yes\"]\n",
    "#print(var12[['booking_id','customer_id','incomplete_rides','incomplete_rides_reason']])\n",
    "print(var12[['booking_id','customer_id','incomplete_rides','incomplete_rides_reason']])"
   ]
  },
  {
   "cell_type": "code",
   "execution_count": 43,
   "id": "b13a18cb",
   "metadata": {},
   "outputs": [
    {
     "name": "stdout",
     "output_type": "stream",
     "text": [
      "       customer_rating  driver_ratings\n",
      "0                  NaN             NaN\n",
      "1                  4.0             4.1\n",
      "2                  4.8             4.2\n",
      "3                  NaN             NaN\n",
      "4                  3.0             4.0\n",
      "...                ...             ...\n",
      "20402              NaN             NaN\n",
      "20403              3.6             3.3\n",
      "20404              3.0             3.9\n",
      "20405              4.7             4.2\n",
      "20406              NaN             NaN\n",
      "\n",
      "[20407 rows x 2 columns]\n"
     ]
    }
   ],
   "source": [
    "##note= similarly by adjusting filters we can get the insight of whatever more we want \n",
    "#print(df['ride_distance'].sum())\n",
    "#print(df['canceled_rides_by_driver'])\n",
    "print(df[['customer_rating','driver_ratings']])"
   ]
  },
  {
   "cell_type": "code",
   "execution_count": 48,
   "id": "348b4225",
   "metadata": {},
   "outputs": [
    {
     "name": "stdout",
     "output_type": "stream",
     "text": [
      "Requirement already satisfied: pymysql in c:\\users\\91620\\appdata\\local\\programs\\python\\python314\\lib\\site-packages (1.1.2)\n",
      "Requirement already satisfied: sqlalchemy in c:\\users\\91620\\appdata\\local\\programs\\python\\python314\\lib\\site-packages (2.0.44)\n",
      "Requirement already satisfied: greenlet>=1 in c:\\users\\91620\\appdata\\local\\programs\\python\\python314\\lib\\site-packages (from sqlalchemy) (3.2.4)\n",
      "Requirement already satisfied: typing-extensions>=4.6.0 in c:\\users\\91620\\appdata\\local\\programs\\python\\python314\\lib\\site-packages (from sqlalchemy) (4.15.0)\n"
     ]
    },
    {
     "name": "stderr",
     "output_type": "stream",
     "text": [
      "\n",
      "[notice] A new release of pip is available: 25.2 -> 25.3\n",
      "[notice] To update, run: python.exe -m pip install --upgrade pip\n",
      "'-m' is not recognized as an internal or external command,\n",
      "operable program or batch file.\n"
     ]
    }
   ],
   "source": [
    "# Connecting to mysql \n",
    "!pip install pymysql sqlalchemy\n",
    "!-m pip install --upgrade pip\n"
   ]
  },
  {
   "cell_type": "code",
   "execution_count": 52,
   "id": "e3d2e823",
   "metadata": {},
   "outputs": [],
   "source": [
    "from sqlalchemy import create_engine\n",
    "import mysql.connector\n",
    "# Setting up connection with MYSQL\n",
    "username = \"root\"\n",
    "password = \"Secure$4u\"\n",
    "host = \"localhost\"\n",
    "port = \"3306\"\n",
    "database = \"OLA_RIDES_ANALYSIS\"\n",
    "\n",
    "engine = create_engine(f\"mysql+pymysql://{username}:{password}@{host}:{port}/{database}\")\n"
   ]
  },
  {
   "cell_type": "code",
   "execution_count": null,
   "id": "7991bc72",
   "metadata": {},
   "outputs": [
    {
     "name": "stderr",
     "output_type": "stream",
     "text": [
      "C:\\Users\\91620\\AppData\\Local\\Temp\\ipykernel_1948\\112225059.py:3: UserWarning: The provided table name 'TABLE1' is not found exactly as such in the database after writing the table, possibly due to case sensitivity issues. Consider using lower case table names.\n",
      "  df.to_sql(table_name, engine , if_exists=\"replace\", index=False)\n"
     ]
    },
    {
     "data": {
      "text/plain": [
       "20407"
      ]
     },
     "execution_count": 53,
     "metadata": {},
     "output_type": "execute_result"
    }
   ],
   "source": [
    "# Write DataFrame to MySQL ( Loaded this dataframe under table name \"TABLE1\")\n",
    "table_name = \"TABLE1\"   # choose any table name\n",
    "df.to_sql(table_name, engine , if_exists=\"replace\", index=False)"
   ]
  }
 ],
 "metadata": {
  "kernelspec": {
   "display_name": "Python 3",
   "language": "python",
   "name": "python3"
  },
  "language_info": {
   "codemirror_mode": {
    "name": "ipython",
    "version": 3
   },
   "file_extension": ".py",
   "mimetype": "text/x-python",
   "name": "python",
   "nbconvert_exporter": "python",
   "pygments_lexer": "ipython3",
   "version": "3.14.0"
  }
 },
 "nbformat": 4,
 "nbformat_minor": 5
}
